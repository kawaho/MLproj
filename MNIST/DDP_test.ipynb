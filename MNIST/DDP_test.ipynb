{
 "cells": [
  {
   "cell_type": "code",
   "execution_count": 1,
   "id": "23e33fb0",
   "metadata": {},
   "outputs": [],
   "source": [
    "from models import model_softm, model_diri\n",
    "from utils import *\n",
    "import torch.multiprocessing as mp\n",
    "import torch.optim as optim \n",
    "\n",
    "import torchvision\n",
    "from torchvision import datasets, transforms\n",
    "\n",
    "import math\n",
    "\n",
    "mnist_trainset = datasets.MNIST(root='./data_train', train=True, download=True, transform=transforms.Compose([transforms.ToTensor(), transforms.Normalize((0.1307,), (0.3081,))]))\n",
    "mnist_testset = datasets.MNIST(root='./data_test', train=False, download=True, transform=transforms.Compose([transforms.ToTensor(), transforms.Normalize((0.1307,), (0.3081,))]))\n"
   ]
  },
  {
   "cell_type": "code",
   "execution_count": 2,
   "id": "8a7b3216",
   "metadata": {},
   "outputs": [
    {
     "name": "stderr",
     "output_type": "stream",
     "text": [
      "[W socket.cpp:558] [c10d] The client socket cannot be initialized to connect to [localhost]:29500 (errno: 97 - Address family not supported by protocol).\n",
      "[W socket.cpp:401] [c10d] The server socket cannot be initialized on [::]:29500 (errno: 97 - Address family not supported by protocol).\n",
      "[W socket.cpp:558] [c10d] The client socket cannot be initialized to connect to [localhost]:29500 (errno: 97 - Address family not supported by protocol).\n",
      "[W socket.cpp:558] [c10d] The client socket cannot be initialized to connect to [localhost]:29500 (errno: 97 - Address family not supported by protocol).\n",
      "[W socket.cpp:558] [c10d] The client socket cannot be initialized to connect to [localhost]:29500 (errno: 97 - Address family not supported by protocol).\n"
     ]
    },
    {
     "name": "stdout",
     "output_type": "stream",
     "text": [
      "Train Epoch: 1 [0/60000 (0%)]\tLoss: 2.140532\n",
      "Train Epoch: 1 [3200/60000 (11%)]\tLoss: 1.458439\n",
      "Train Epoch: 1 [6400/60000 (21%)]\tLoss: 1.419623\n",
      "Train Epoch: 1 [9600/60000 (32%)]\tLoss: 1.005490\n",
      "Train Epoch: 1 [12800/60000 (43%)]\tLoss: 1.173349\n",
      "Train Epoch: 1 [16000/60000 (53%)]\tLoss: 0.748498\n",
      "Train Epoch: 1 [19200/60000 (64%)]\tLoss: 0.667913\n",
      "Train Epoch: 1 [22400/60000 (75%)]\tLoss: 0.521103\n",
      "Train Epoch: 1 [25600/60000 (85%)]\tLoss: 0.783192\n",
      "Train Epoch: 1 [28800/60000 (96%)]\tLoss: 0.634389\n",
      "Test average loss: 0.11906005859375, correct predictons: 9594, total: 10000, accuracy: 95.94% \n",
      "\n",
      "Train Epoch: 2 [0/60000 (0%)]\tLoss: 0.801776\n",
      "Train Epoch: 2 [3200/60000 (11%)]\tLoss: 0.808624\n",
      "Train Epoch: 2 [6400/60000 (21%)]\tLoss: 0.666755\n",
      "Train Epoch: 2 [9600/60000 (32%)]\tLoss: 0.674131\n",
      "Train Epoch: 2 [12800/60000 (43%)]\tLoss: 0.529305\n",
      "Train Epoch: 2 [16000/60000 (53%)]\tLoss: 0.514869\n",
      "Train Epoch: 2 [19200/60000 (64%)]\tLoss: 0.602128\n",
      "Train Epoch: 2 [22400/60000 (75%)]\tLoss: 0.515562\n",
      "Train Epoch: 2 [25600/60000 (85%)]\tLoss: 0.620673\n",
      "Train Epoch: 2 [28800/60000 (96%)]\tLoss: 0.306942\n",
      "Test average loss: 0.1046350830078125, correct predictons: 9661, total: 10000, accuracy: 96.61% \n",
      "\n",
      "Train Epoch: 3 [0/60000 (0%)]\tLoss: 0.519002\n",
      "Train Epoch: 3 [3200/60000 (11%)]\tLoss: 0.617945\n",
      "Train Epoch: 3 [6400/60000 (21%)]\tLoss: 0.649407\n",
      "Train Epoch: 3 [9600/60000 (32%)]\tLoss: 0.751234\n",
      "Train Epoch: 3 [12800/60000 (43%)]\tLoss: 0.264597\n",
      "Train Epoch: 3 [16000/60000 (53%)]\tLoss: 0.424707\n",
      "Train Epoch: 3 [19200/60000 (64%)]\tLoss: 0.598117\n",
      "Train Epoch: 3 [22400/60000 (75%)]\tLoss: 0.516918\n",
      "Train Epoch: 3 [25600/60000 (85%)]\tLoss: 0.189574\n",
      "Train Epoch: 3 [28800/60000 (96%)]\tLoss: 0.555366\n",
      "Test average loss: 0.1000020751953125, correct predictons: 9737, total: 10000, accuracy: 97.37% \n",
      "\n",
      "Train Epoch: 4 [0/60000 (0%)]\tLoss: 0.640469\n",
      "Train Epoch: 4 [3200/60000 (11%)]\tLoss: 0.521928\n",
      "Train Epoch: 4 [6400/60000 (21%)]\tLoss: 0.513159\n",
      "Train Epoch: 4 [9600/60000 (32%)]\tLoss: 0.391749\n",
      "Train Epoch: 4 [12800/60000 (43%)]\tLoss: 0.476415\n",
      "Train Epoch: 4 [16000/60000 (53%)]\tLoss: 0.552840\n",
      "Train Epoch: 4 [19200/60000 (64%)]\tLoss: 0.514421\n",
      "Train Epoch: 4 [22400/60000 (75%)]\tLoss: 0.501707\n",
      "Train Epoch: 4 [25600/60000 (85%)]\tLoss: 0.587348\n",
      "Train Epoch: 4 [28800/60000 (96%)]\tLoss: 0.573376\n",
      "Test average loss: 0.10002732543945313, correct predictons: 9736, total: 10000, accuracy: 97.36% \n",
      "\n",
      "Train Epoch: 5 [0/60000 (0%)]\tLoss: 0.862866\n",
      "Train Epoch: 5 [3200/60000 (11%)]\tLoss: 0.555042\n",
      "Train Epoch: 5 [6400/60000 (21%)]\tLoss: 0.446559\n",
      "Train Epoch: 5 [9600/60000 (32%)]\tLoss: 0.493683\n",
      "Train Epoch: 5 [12800/60000 (43%)]\tLoss: 0.452253\n",
      "Train Epoch: 5 [16000/60000 (53%)]\tLoss: 0.586603\n",
      "Train Epoch: 5 [19200/60000 (64%)]\tLoss: 0.503201\n",
      "Train Epoch: 5 [22400/60000 (75%)]\tLoss: 0.366389\n",
      "Train Epoch: 5 [25600/60000 (85%)]\tLoss: 0.739404\n",
      "Train Epoch: 5 [28800/60000 (96%)]\tLoss: 0.564580\n",
      "Test average loss: 0.10038568115234375, correct predictons: 9761, total: 10000, accuracy: 97.61% \n",
      "\n",
      "Train Epoch: 6 [0/60000 (0%)]\tLoss: 0.531505\n",
      "Train Epoch: 6 [3200/60000 (11%)]\tLoss: 0.551476\n",
      "Train Epoch: 6 [6400/60000 (21%)]\tLoss: 0.561837\n",
      "Train Epoch: 6 [9600/60000 (32%)]\tLoss: 0.484789\n",
      "Train Epoch: 6 [12800/60000 (43%)]\tLoss: 0.673303\n",
      "Train Epoch: 6 [16000/60000 (53%)]\tLoss: 1.432655\n",
      "Train Epoch: 6 [19200/60000 (64%)]\tLoss: 0.197289\n",
      "Train Epoch: 6 [22400/60000 (75%)]\tLoss: 0.456376\n",
      "Train Epoch: 6 [25600/60000 (85%)]\tLoss: 0.498296\n",
      "Train Epoch: 6 [28800/60000 (96%)]\tLoss: 0.587466\n",
      "Test average loss: 0.1030054443359375, correct predictons: 9776, total: 10000, accuracy: 97.76% \n",
      "\n",
      "Train Epoch: 7 [0/60000 (0%)]\tLoss: 0.510377\n",
      "Train Epoch: 7 [3200/60000 (11%)]\tLoss: 0.481946\n",
      "Train Epoch: 7 [6400/60000 (21%)]\tLoss: 0.399972\n",
      "Train Epoch: 7 [9600/60000 (32%)]\tLoss: 1.226557\n",
      "Train Epoch: 7 [12800/60000 (43%)]\tLoss: 0.414659\n",
      "Train Epoch: 7 [16000/60000 (53%)]\tLoss: 0.275370\n",
      "Train Epoch: 7 [19200/60000 (64%)]\tLoss: 0.488943\n",
      "Train Epoch: 7 [22400/60000 (75%)]\tLoss: 0.547332\n",
      "Train Epoch: 7 [25600/60000 (85%)]\tLoss: 0.393734\n",
      "Train Epoch: 7 [28800/60000 (96%)]\tLoss: 0.467513\n",
      "Test average loss: 0.1031244384765625, correct predictons: 9763, total: 10000, accuracy: 97.63% \n",
      "\n",
      "Train Epoch: 8 [0/60000 (0%)]\tLoss: 0.893892\n",
      "Train Epoch: 8 [3200/60000 (11%)]\tLoss: 0.732794\n",
      "Train Epoch: 8 [6400/60000 (21%)]\tLoss: 0.744211\n",
      "Train Epoch: 8 [9600/60000 (32%)]\tLoss: 0.566058\n",
      "Train Epoch: 8 [12800/60000 (43%)]\tLoss: 0.395830\n",
      "Train Epoch: 8 [16000/60000 (53%)]\tLoss: 1.078510\n",
      "Train Epoch: 8 [19200/60000 (64%)]\tLoss: 0.911678\n",
      "Train Epoch: 8 [22400/60000 (75%)]\tLoss: 0.345208\n",
      "Train Epoch: 8 [25600/60000 (85%)]\tLoss: 0.383752\n",
      "Train Epoch: 8 [28800/60000 (96%)]\tLoss: 0.891053\n",
      "Test average loss: 0.10035660400390625, correct predictons: 9774, total: 10000, accuracy: 97.74% \n",
      "\n",
      "Train Epoch: 9 [0/60000 (0%)]\tLoss: 1.094147\n",
      "Train Epoch: 9 [3200/60000 (11%)]\tLoss: 0.708705\n",
      "Train Epoch: 9 [6400/60000 (21%)]\tLoss: 0.387003\n",
      "Train Epoch: 9 [9600/60000 (32%)]\tLoss: 0.323634\n",
      "Train Epoch: 9 [12800/60000 (43%)]\tLoss: 0.668250\n",
      "Train Epoch: 9 [16000/60000 (53%)]\tLoss: 1.447325\n",
      "Train Epoch: 9 [19200/60000 (64%)]\tLoss: 0.762626\n",
      "Train Epoch: 9 [22400/60000 (75%)]\tLoss: 0.424607\n",
      "Train Epoch: 9 [25600/60000 (85%)]\tLoss: 0.804234\n",
      "Train Epoch: 9 [28800/60000 (96%)]\tLoss: 0.547740\n",
      "Test average loss: 0.1033373046875, correct predictons: 9777, total: 10000, accuracy: 97.77% \n",
      "\n",
      "Train Epoch: 10 [0/60000 (0%)]\tLoss: 0.986412\n",
      "Train Epoch: 10 [3200/60000 (11%)]\tLoss: 0.341115\n",
      "Train Epoch: 10 [6400/60000 (21%)]\tLoss: 0.469525\n",
      "Train Epoch: 10 [9600/60000 (32%)]\tLoss: 0.561841\n",
      "Train Epoch: 10 [12800/60000 (43%)]\tLoss: 0.589419\n",
      "Train Epoch: 10 [16000/60000 (53%)]\tLoss: 0.469745\n",
      "Train Epoch: 10 [19200/60000 (64%)]\tLoss: 0.385572\n",
      "Train Epoch: 10 [22400/60000 (75%)]\tLoss: 0.361765\n",
      "Train Epoch: 10 [25600/60000 (85%)]\tLoss: 0.871601\n",
      "Train Epoch: 10 [28800/60000 (96%)]\tLoss: 0.558625\n",
      "Test average loss: 0.1172880615234375, correct predictons: 9757, total: 10000, accuracy: 97.57% \n",
      "\n",
      "Train Epoch: 11 [0/60000 (0%)]\tLoss: 0.393703\n",
      "Train Epoch: 11 [3200/60000 (11%)]\tLoss: 0.624584\n",
      "Train Epoch: 11 [6400/60000 (21%)]\tLoss: 0.710931\n",
      "Train Epoch: 11 [9600/60000 (32%)]\tLoss: 0.415688\n",
      "Train Epoch: 11 [12800/60000 (43%)]\tLoss: 0.447972\n",
      "Train Epoch: 11 [16000/60000 (53%)]\tLoss: 0.432458\n",
      "Train Epoch: 11 [19200/60000 (64%)]\tLoss: 0.465511\n",
      "Train Epoch: 11 [22400/60000 (75%)]\tLoss: 0.551206\n",
      "Train Epoch: 11 [25600/60000 (85%)]\tLoss: 0.283854\n",
      "Train Epoch: 11 [28800/60000 (96%)]\tLoss: 0.719957\n",
      "Test average loss: 0.1166286376953125, correct predictons: 9779, total: 10000, accuracy: 97.79% \n",
      "\n",
      "Train Epoch: 12 [0/60000 (0%)]\tLoss: 1.096818\n",
      "Train Epoch: 12 [3200/60000 (11%)]\tLoss: 0.567958\n",
      "Train Epoch: 12 [6400/60000 (21%)]\tLoss: 0.395862\n",
      "Train Epoch: 12 [9600/60000 (32%)]\tLoss: 0.402859\n",
      "Train Epoch: 12 [12800/60000 (43%)]\tLoss: 0.482568\n",
      "Train Epoch: 12 [16000/60000 (53%)]\tLoss: 0.851514\n",
      "Train Epoch: 12 [19200/60000 (64%)]\tLoss: 0.357054\n",
      "Train Epoch: 12 [22400/60000 (75%)]\tLoss: 0.620040\n",
      "Train Epoch: 12 [25600/60000 (85%)]\tLoss: 0.384587\n",
      "Train Epoch: 12 [28800/60000 (96%)]\tLoss: 0.372325\n",
      "Test average loss: 0.09969552612304687, correct predictons: 9794, total: 10000, accuracy: 97.94% \n",
      "\n",
      "Train Epoch: 13 [0/60000 (0%)]\tLoss: 0.433452\n",
      "Train Epoch: 13 [3200/60000 (11%)]\tLoss: 0.188993\n",
      "Train Epoch: 13 [6400/60000 (21%)]\tLoss: 0.524820\n",
      "Train Epoch: 13 [9600/60000 (32%)]\tLoss: 0.284370\n",
      "Train Epoch: 13 [12800/60000 (43%)]\tLoss: 0.399106\n",
      "Train Epoch: 13 [16000/60000 (53%)]\tLoss: 2.590480\n",
      "Train Epoch: 13 [19200/60000 (64%)]\tLoss: 0.550433\n",
      "Train Epoch: 13 [22400/60000 (75%)]\tLoss: 0.270841\n",
      "Train Epoch: 13 [25600/60000 (85%)]\tLoss: 0.381091\n",
      "Train Epoch: 13 [28800/60000 (96%)]\tLoss: 1.492034\n",
      "Test average loss: 0.100996875, correct predictons: 9804, total: 10000, accuracy: 98.04% \n",
      "\n",
      "Train Epoch: 14 [0/60000 (0%)]\tLoss: 0.367687\n",
      "Train Epoch: 14 [3200/60000 (11%)]\tLoss: 0.359217\n",
      "Train Epoch: 14 [6400/60000 (21%)]\tLoss: 0.271270\n",
      "Train Epoch: 14 [9600/60000 (32%)]\tLoss: 0.545359\n",
      "Train Epoch: 14 [12800/60000 (43%)]\tLoss: 0.610726\n",
      "Train Epoch: 14 [16000/60000 (53%)]\tLoss: 0.371961\n",
      "Train Epoch: 14 [19200/60000 (64%)]\tLoss: 0.524933\n",
      "Train Epoch: 14 [22400/60000 (75%)]\tLoss: 0.504170\n",
      "Train Epoch: 14 [25600/60000 (85%)]\tLoss: 0.446717\n"
     ]
    },
    {
     "name": "stderr",
     "output_type": "stream",
     "text": [
      "/scratch365/kho2/models.py:13: UserWarning: Specified kernel cache directory could not be created! This disables kernel caching. Specified directory is /tmpscratch/kho2/.cache/torch/kernels. This warning will appear only once per process. (Triggered internally at  ../aten/src/ATen/native/cuda/jit_utils.cpp:860.)\n",
      "  lnD = torch.lgamma(S_alpha) - torch.sum(torch.lgamma(alp_til), 1, keepdim=True)\n",
      "/scratch365/kho2/models.py:13: UserWarning: Specified kernel cache directory could not be created! This disables kernel caching. Specified directory is /tmpscratch/kho2/.cache/torch/kernels. This warning will appear only once per process. (Triggered internally at  ../aten/src/ATen/native/cuda/jit_utils.cpp:860.)\n",
      "  lnD = torch.lgamma(S_alpha) - torch.sum(torch.lgamma(alp_til), 1, keepdim=True)\n"
     ]
    },
    {
     "name": "stdout",
     "output_type": "stream",
     "text": [
      "Train Epoch: 14 [28800/60000 (96%)]\tLoss: 0.648517\n",
      "Test average loss: 0.110771875, correct predictons: 9790, total: 10000, accuracy: 97.9% \n",
      "\n",
      "Train Epoch: 15 [0/60000 (0%)]\tLoss: 0.487082\n",
      "Train Epoch: 15 [3200/60000 (11%)]\tLoss: 1.136097\n",
      "Train Epoch: 15 [6400/60000 (21%)]\tLoss: 0.274403\n",
      "Train Epoch: 15 [9600/60000 (32%)]\tLoss: 0.558867\n",
      "Train Epoch: 15 [12800/60000 (43%)]\tLoss: 0.394700\n",
      "Train Epoch: 15 [16000/60000 (53%)]\tLoss: 1.867697\n",
      "Train Epoch: 15 [19200/60000 (64%)]\tLoss: 0.733503\n",
      "Train Epoch: 15 [22400/60000 (75%)]\tLoss: 0.817495\n",
      "Train Epoch: 15 [25600/60000 (85%)]\tLoss: 0.389362\n",
      "Train Epoch: 15 [28800/60000 (96%)]\tLoss: 0.534360\n",
      "Test average loss: 0.103368896484375, correct predictons: 9786, total: 10000, accuracy: 97.86% \n",
      "\n",
      "Train Epoch: 16 [0/60000 (0%)]\tLoss: 0.532520\n",
      "Train Epoch: 16 [3200/60000 (11%)]\tLoss: 0.613450\n",
      "Train Epoch: 16 [6400/60000 (21%)]\tLoss: 0.615940\n",
      "Train Epoch: 16 [9600/60000 (32%)]\tLoss: 0.635079\n",
      "Train Epoch: 16 [12800/60000 (43%)]\tLoss: 0.248607\n",
      "Train Epoch: 16 [16000/60000 (53%)]\tLoss: 0.443713\n",
      "Train Epoch: 16 [19200/60000 (64%)]\tLoss: 0.748110\n",
      "Train Epoch: 16 [22400/60000 (75%)]\tLoss: 0.466852\n",
      "Train Epoch: 16 [25600/60000 (85%)]\tLoss: 0.265844\n",
      "Train Epoch: 16 [28800/60000 (96%)]\tLoss: 0.392276\n",
      "Test average loss: 0.09585532836914062, correct predictons: 9782, total: 10000, accuracy: 97.82% \n",
      "\n",
      "Train Epoch: 17 [0/60000 (0%)]\tLoss: 0.491935\n",
      "Train Epoch: 17 [3200/60000 (11%)]\tLoss: 0.568049\n",
      "Train Epoch: 17 [6400/60000 (21%)]\tLoss: 0.344861\n",
      "Train Epoch: 17 [9600/60000 (32%)]\tLoss: 0.436994\n",
      "Train Epoch: 17 [12800/60000 (43%)]\tLoss: 0.687452\n",
      "Train Epoch: 17 [16000/60000 (53%)]\tLoss: 0.973557\n",
      "Train Epoch: 17 [19200/60000 (64%)]\tLoss: 0.411013\n",
      "Train Epoch: 17 [22400/60000 (75%)]\tLoss: 0.619939\n",
      "Train Epoch: 17 [25600/60000 (85%)]\tLoss: 0.889428\n",
      "Train Epoch: 17 [28800/60000 (96%)]\tLoss: 1.052825\n",
      "Test average loss: 0.08831014404296875, correct predictons: 9794, total: 10000, accuracy: 97.94% \n",
      "\n",
      "Train Epoch: 18 [0/60000 (0%)]\tLoss: 0.542097\n",
      "Train Epoch: 18 [3200/60000 (11%)]\tLoss: 0.504532\n",
      "Train Epoch: 18 [6400/60000 (21%)]\tLoss: 0.235599\n",
      "Train Epoch: 18 [9600/60000 (32%)]\tLoss: 0.460631\n",
      "Train Epoch: 18 [12800/60000 (43%)]\tLoss: 0.274416\n",
      "Train Epoch: 18 [16000/60000 (53%)]\tLoss: 0.516661\n",
      "Train Epoch: 18 [19200/60000 (64%)]\tLoss: 0.395135\n",
      "Train Epoch: 18 [22400/60000 (75%)]\tLoss: 0.446059\n",
      "Train Epoch: 18 [25600/60000 (85%)]\tLoss: 0.401284\n",
      "Train Epoch: 18 [28800/60000 (96%)]\tLoss: 0.314009\n",
      "Test average loss: 0.09495028686523438, correct predictons: 9809, total: 10000, accuracy: 98.09% \n",
      "\n",
      "Train Epoch: 19 [0/60000 (0%)]\tLoss: 0.567743\n",
      "Train Epoch: 19 [3200/60000 (11%)]\tLoss: 1.687638\n",
      "Train Epoch: 19 [6400/60000 (21%)]\tLoss: 0.507544\n",
      "Train Epoch: 19 [9600/60000 (32%)]\tLoss: 0.299530\n",
      "Train Epoch: 19 [12800/60000 (43%)]\tLoss: 0.350046\n",
      "Train Epoch: 19 [16000/60000 (53%)]\tLoss: 1.107301\n",
      "Train Epoch: 19 [19200/60000 (64%)]\tLoss: 1.265878\n",
      "Train Epoch: 19 [22400/60000 (75%)]\tLoss: 0.386689\n",
      "Train Epoch: 19 [25600/60000 (85%)]\tLoss: 0.950105\n",
      "Train Epoch: 19 [28800/60000 (96%)]\tLoss: 0.279168\n",
      "Test average loss: 0.1025836181640625, correct predictons: 9768, total: 10000, accuracy: 97.68% \n",
      "\n",
      "Train Epoch: 20 [0/60000 (0%)]\tLoss: 0.419214\n",
      "Train Epoch: 20 [3200/60000 (11%)]\tLoss: 0.238645\n",
      "Train Epoch: 20 [6400/60000 (21%)]\tLoss: 0.375795\n",
      "Train Epoch: 20 [9600/60000 (32%)]\tLoss: 1.595572\n",
      "Train Epoch: 20 [12800/60000 (43%)]\tLoss: 0.412308\n",
      "Train Epoch: 20 [16000/60000 (53%)]\tLoss: 0.702684\n",
      "Train Epoch: 20 [19200/60000 (64%)]\tLoss: 0.358765\n",
      "Train Epoch: 20 [22400/60000 (75%)]\tLoss: 0.297588\n",
      "Train Epoch: 20 [25600/60000 (85%)]\tLoss: 0.567638\n",
      "Train Epoch: 20 [28800/60000 (96%)]\tLoss: 0.424386\n",
      "Test average loss: 0.0934914794921875, correct predictons: 9791, total: 10000, accuracy: 97.91% \n",
      "\n"
     ]
    }
   ],
   "source": [
    "torch.manual_seed(0)\n",
    "world_size = 2\n",
    "mp.spawn(\n",
    "    runmain,\n",
    "    args=[model_diri, mnist_trainset, mnist_testset, world_size, 20],\n",
    "    nprocs=world_size\n",
    ")\n"
   ]
  },
  {
   "cell_type": "code",
   "execution_count": 3,
   "id": "b3315c3b",
   "metadata": {},
   "outputs": [
    {
     "data": {
      "text/plain": [
       "0.9702"
      ]
     },
     "execution_count": 3,
     "metadata": {},
     "output_type": "execute_result"
    }
   ],
   "source": [
    "#Check test samples accuracy\n",
    "import torch\n",
    "network = model_diri()\n",
    "network.load_state_dict(torch.load('model_diri_clip.pt'), strict=False)\n",
    "network.eval()\n",
    "\n",
    "all_mnist_testset = torch.unsqueeze(mnist_testset.data, 1).float()\n",
    "\n",
    "output = network(all_mnist_testset).data + 1\n",
    "pred = output.max(1, keepdim=True)[1].flatten()\n",
    " \n",
    "S = torch.sum(output, 1, keepdim=True)\n",
    "b = output/S\n",
    "u = 10/S\n",
    "\n",
    "correct_mask = (mnist_testset.targets == pred)\n",
    "sum(correct_mask).item()/len(correct_mask)"
   ]
  },
  {
   "cell_type": "code",
   "execution_count": 6,
   "id": "6421db30",
   "metadata": {},
   "outputs": [
    {
     "data": {
      "image/png": "[encoded data removed]",
      "text/plain": [
       "<Figure size 432x288 with 1 Axes>"
      ]
     },
     "metadata": {
      "needs_background": "light"
     },
     "output_type": "display_data"
    }
   ],
   "source": [
    "import matplotlib.pyplot as plt\n",
    "plt.hist(u[~correct_mask].flatten().numpy(), density=True, alpha=0.5, label='wrong')\n",
    "plt.hist(u[correct_mask].flatten().numpy(), density=True, alpha=0.5, label='corrext')\n",
    "plt.legend()\n",
    "plt.show()"
   ]
  },
  {
   "cell_type": "code",
   "execution_count": 7,
   "id": "ed389c7c",
   "metadata": {},
   "outputs": [
    {
     "data": {
      "image/png": "[encoded data removed]",
      "text/plain": [
       "<Figure size 576x576 with 9 Axes>"
      ]
     },
     "metadata": {
      "needs_background": "light"
     },
     "output_type": "display_data"
    }
   ],
   "source": [
    "#Looking at some wrong examples\n",
    "import matplotlib.pyplot as plt\n",
    "fig = plt.figure(figsize=(8,8))\n",
    "for i, (example_data, example_targets) in enumerate(zip(mnist_testset.data[~correct_mask], mnist_testset.targets[~correct_mask])):\n",
    "        example_data = example_data.unsqueeze_(0).float()\n",
    "        if i >= 3*3: break\n",
    "        plt.subplot(3,3,i+1)\n",
    "        plt.tight_layout()\n",
    "        plt.imshow(example_data.permute(1, 2, 0), cmap='gray')\n",
    "        with torch.no_grad():\n",
    "            prediction = network(example_data).data.max(1, keepdim=True)[1].item()\n",
    "            plt.title(\"Prediction: {} Truth: {}\".format(prediction, example_targets, fontsize=18))"
   ]
  },
  {
   "cell_type": "code",
   "execution_count": 19,
   "id": "cc731983",
   "metadata": {},
   "outputs": [
    {
     "data": {
      "image/png": "[encoded data removed]",
      "text/plain": [
       "<Figure size 432x288 with 1 Axes>"
      ]
     },
     "metadata": {
      "needs_background": "light"
     },
     "output_type": "display_data"
    }
   ],
   "source": [
    "from IPython import display\n",
    "import time\n",
    "digi_one = mnist_testset[5][0]\n",
    "evidence, unc, angles, rotated_pics, prediction = [], [], [], [], []\n",
    "for angle in range(10, 190, 10):\n",
    "    example_data_rotated = transforms.functional.rotate(digi_one, angle=angle)\n",
    "    plt.imshow(example_data_rotated.permute(1, 2, 0), cmap='gray')\n",
    "    \n",
    "\n",
    "    output = network(example_data_rotated).data + 1\n",
    "    pred = output.max(1, keepdim=True)[1].flatten()\n",
    "    S = torch.sum(output, 1, keepdim=True)\n",
    "    b = output/S\n",
    "    u = 10/S\n",
    "\n",
    "    plt.title(f'Prediction is {pred.item()} with evidence {b.max().flatten().item():0.2f} uncertainty {u.flatten().item():0.2f}')\n",
    "    \n",
    "    \n",
    "    evidence.append(b.max().flatten().item())\n",
    "    unc.append(u.flatten().item())\n",
    "    angles.append(angle)\n",
    "    rotated_pics.append(example_data_rotated)\n",
    "    prediction.append(pred.item())\n",
    "    \n",
    "    display.display(plt.gcf())\n",
    "    display.clear_output(wait=True)\n",
    "    time.sleep(.1)"
   ]
  },
  {
   "cell_type": "code",
   "execution_count": 20,
   "id": "b8207025",
   "metadata": {},
   "outputs": [
    {
     "data": {
      "image/png": "[encoded data removed]",
      "text/plain": [
       "<Figure size 720x480 with 1 Axes>"
      ]
     },
     "metadata": {
      "needs_background": "light"
     },
     "output_type": "display_data"
    }
   ],
   "source": [
    "from matplotlib.offsetbox import OffsetImage,AnnotationBbox\n",
    "\n",
    "def offset_image(coord, index, ax):\n",
    "    im = OffsetImage(rotated_pics[index].permute(1, 2, 0), zoom=0.5, cmap='gray')\n",
    "    im.image.axes = ax\n",
    "\n",
    "    ab = AnnotationBbox(im, (coord, -0.025),  xybox=(0., -20.), frameon=False,\n",
    "                        xycoords='data',  boxcoords=\"offset points\", pad=0)\n",
    "\n",
    "    ax.add_artist(ab)\n",
    "\n",
    "fig, ax = plt.subplots(figsize=(6, 4), dpi=120)\n",
    "ax.scatter(angles, unc, label='uncertainty')\n",
    "ax.scatter(angles, evidence, label='evidence')\n",
    "ax.tick_params(axis='x', which='major', pad=26)\n",
    "\n",
    "list_of_angles = list(range(10, 190, 10))\n",
    "for i, c in enumerate(list_of_angles):\n",
    "    offset_image(c, i, ax)\n",
    "ax.set_xlabel('rotated angle (degree)')\n",
    "ax.set_xticks(list_of_angles)\n",
    "ax.set_xticklabels(prediction)\n",
    "ax.legend()\n",
    "plt.show()"
   ]
  },
  {
   "cell_type": "code",
   "execution_count": null,
   "id": "3534b3c4",
   "metadata": {},
   "outputs": [],
   "source": []
  }
 ],
 "metadata": {
  "kernelspec": {
   "display_name": "Python 3 (ipykernel)",
   "language": "python",
   "name": "python3"
  },
  "language_info": {
   "codemirror_mode": {
    "name": "ipython",
    "version": 3
   },
   "file_extension": ".py",
   "mimetype": "text/x-python",
   "name": "python",
   "nbconvert_exporter": "python",
   "pygments_lexer": "ipython3",
   "version": "3.8.10"
  }
 },
 "nbformat": 4,
 "nbformat_minor": 5
}
